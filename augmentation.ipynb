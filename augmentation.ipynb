{
 "cells": [
  {
   "cell_type": "markdown",
   "metadata": {},
   "source": [
    "### 左右反転、閾値処理、ぼかしで８倍の水増し"
   ]
  },
  {
   "cell_type": "code",
   "execution_count": 139,
   "metadata": {},
   "outputs": [],
   "source": [
    "import os\n",
    "import numpy as np\n",
    "import cv2\n",
    "import matplotlib.pyplot as plt"
   ]
  },
  {
   "cell_type": "code",
   "execution_count": 140,
   "metadata": {},
   "outputs": [],
   "source": [
    "def scratch_image(img, flip=True, thr=True, fit=True):\n",
    "    ## 水増しの手法を配列にする\n",
    "    methods = [flip, thr, fit]\n",
    "    \n",
    "    ## ぼかしのフィルター作成\n",
    "    filter1 = np.ones((3,3))\n",
    "    images = [img]\n",
    "    \n",
    "    ## 水増しの手法\n",
    "    scratch = np.array([\n",
    "        lambda x: cv2.flip(x, 1),\n",
    "        lambda x: cv2.threshold(x, 100, 255, cv2.THRESH_TOZERO)[1],\n",
    "        lambda x: cv2.GaussianBlur(x, (5, 5), 0)\n",
    "    ])\n",
    "    \n",
    "    doubling_images = lambda f, imag: np.r_[imag, [f(i) for i in imag]] \n",
    "    \n",
    "    for func in scratch[methods]:\n",
    "        images = doubling_images(func, images)\n",
    "    return images"
   ]
  },
  {
   "cell_type": "code",
   "execution_count": 141,
   "metadata": {},
   "outputs": [],
   "source": [
    "import glob\n",
    "\n",
    "in_dir = \"face_image/*\"\n",
    "## in_dirからのファイル名取得(ディレクトリ名含む)\n",
    "in_jpg = glob.glob(in_dir)\n",
    "## 画像ファイル名のみ\n",
    "img_file_name_list = os.listdir(\"face_image/\")\n",
    "\n",
    "for i in range(len(in_jpg)):\n",
    "    img = cv2.imread(str(in_jpg[i]))\n",
    "    scratch_face_images = scratch_image(img)\n",
    "\n",
    "    for num, im in enumerate(scratch_face_images):\n",
    "            fn, ext = os.path.splitext(img_file_name_list[i])\n",
    "            file_name=os.path.join(\"./face_scratch_image\",str(fn+\".\"+str(num)+\".jpg\"))\n",
    "            cv2.imwrite(str(file_name) ,im)"
   ]
  },
  {
   "cell_type": "markdown",
   "metadata": {},
   "source": [
    "### 画像と正解ラベルをリストにする"
   ]
  },
  {
   "cell_type": "code",
   "execution_count": 142,
   "metadata": {},
   "outputs": [],
   "source": [
    "import random\n",
    "from keras.utils.np_utils import to_categorical\n",
    "import os\n",
    "import cv2\n",
    "import numpy as np\n",
    "import matplotlib.pyplot as plt"
   ]
  },
  {
   "cell_type": "code",
   "execution_count": 143,
   "metadata": {},
   "outputs": [],
   "source": [
    "img_file_name_list = os.listdir(\"masami_train/\")\n",
    "# print(len(img_file_name_list))\n",
    "\n",
    "for i in range(len(img_file_name_list)):\n",
    "    n = os.path.join(\"masami_train\", img_file_name_list[i-1])\n",
    "    img = cv2.imread(n)\n",
    "    \n",
    "    if isinstance(img, type(None)) == True:\n",
    "        img_file_name_list.pop(i)\n",
    "        continue"
   ]
  },
  {
   "cell_type": "code",
   "execution_count": 144,
   "metadata": {},
   "outputs": [],
   "source": [
    "X_train=[]\n",
    "y_train=[]\n",
    "\n",
    "for j in range(0, len(img_file_name_list)-1):\n",
    "    n = os.path.join(\"masami_train/\",img_file_name_list[j])\n",
    "    img = cv2.imread(n)\n",
    "    b,g,r = cv2.split(img)\n",
    "    img = cv2.merge([r,g,b])\n",
    "    X_train.append(img)\n",
    "    n = img_file_name_list[j]\n",
    "    y_train = np.append(y_train, int(n[0:2])).reshape(j+1,1)\n",
    "X_train = np.array(X_train)\n",
    "\n",
    "img_file_name_list=os.listdir(\"test_image/\")"
   ]
  },
  {
   "cell_type": "code",
   "execution_count": 145,
   "metadata": {},
   "outputs": [],
   "source": [
    "for i in range(len(img_file_name_list)-1):\n",
    "    n = os.path.join(\"test_image/\",img_file_name_list[i-1])\n",
    "    img = cv2.imread(n)\n",
    "    if isinstance(img,type(None)) == True:\n",
    "        img_file_name_list.pop(i)\n",
    "        continue"
   ]
  },
  {
   "cell_type": "code",
   "execution_count": 146,
   "metadata": {},
   "outputs": [],
   "source": [
    "X_test=[]\n",
    "y_test=[]\n",
    "\n",
    "for j in range(0, len(img_file_name_list)):\n",
    "    n=os.path.join(\"test_image/\", img_file_name_list[j])\n",
    "    img = cv2.imread(n)\n",
    "    b,g,r = cv2.split(img)\n",
    "    img = cv2.merge([r,g,b])\n",
    "    X_test.append(img)\n",
    "    n = img_file_name_list[j]\n",
    "    y_test = np.append(y_test, n[0:3]).reshape(j+1,1)\n",
    "\n",
    "X_test = np.array(X_test)"
   ]
  },
  {
   "cell_type": "markdown",
   "metadata": {},
   "source": [
    "### トレーニング"
   ]
  },
  {
   "cell_type": "code",
   "execution_count": 150,
   "metadata": {},
   "outputs": [],
   "source": [
    "from keras.layers import Activation, Conv2D, Dense, Flatten, MaxPooling2D\n",
    "from keras.models import Sequential, load_model\n",
    "from keras.utils.np_utils import to_categorical\n",
    "import correct_label"
   ]
  },
  {
   "cell_type": "code",
   "execution_count": 153,
   "metadata": {},
   "outputs": [],
   "source": [
    "# y_test"
   ]
  },
  {
   "cell_type": "code",
   "execution_count": 152,
   "metadata": {},
   "outputs": [],
   "source": [
    "y_train = to_categorical(y_train)\n",
    "y_test = to_categorical(y_test)"
   ]
  },
  {
   "cell_type": "markdown",
   "metadata": {},
   "source": [
    "#### 参考にしたサイト\n",
    "https://keras.io/ja/layers/convolutional/\n",
    "\n",
    "見る画像の数、height, width, 見る方向(見方：1だったら1枚ずつ見る)  \n",
    "kernel_size = (1, 2, 2, 1)\n",
    "\n",
    "\n",
    "conv2d_125 (Conv2D)          \n",
    "(None, 32, 32, 32)   \n",
    "(batch, height, width, channels)\n",
    "\n",
    "model.add(Dense(256))\n",
    "\n",
    "この256は下記を示す  \n",
    "dot.weight → (2048 × 256)  \n",
    "bias → (256, )  \n",
    "\n",
    "実際出てくるデータ  \n",
    "flatten_36 (Flatten)         (None, 2048)  \n",
    "dense_106 (Dense)          (None, 256)   \n",
    "\n",
    "model.add(Dense(2))[最後の層]とy_trainは一緒にしなければいけない   \n",
    "これを使ってロスを計算\n",
    "\n",
    "【メモ】\n",
    "平滑化→真っ直ぐにするイメージ\n",
    "Flatten → 平滑化\n",
    "Dense　→　全結合"
   ]
  },
  {
   "cell_type": "code",
   "execution_count": 129,
   "metadata": {},
   "outputs": [],
   "source": [
    "model = Sequential()\n",
    "## input_shape=(64, 64, 3) → 64 → 画像(縦×横)\n",
    "## filterはchannel数\n",
    "model.add(Conv2D(input_shape=(64, 64, 3), filters=32,kernel_size=(2, 2), strides=(1, 1), padding=\"same\"))\n",
    "model.add(MaxPooling2D(pool_size=(2, 2)))\n",
    "model.add(Conv2D(32, kernel_size=(2, 2), strides=(1, 1), padding=\"same\"))\n",
    "model.add(MaxPooling2D(pool_size=(2, 2)))\n",
    "model.add(Conv2D(32, kernel_size=(2, 2), strides=(1, 1), padding=\"same\"))\n",
    "model.add(MaxPooling2D(pool_size=(2, 2)))\n",
    "model.add(Flatten())\n",
    "model.add(Dense(256))\n",
    "model.add(Activation(\"relu\"))\n",
    "model.add(Dense(128))\n",
    "model.add(Activation('relu'))\n",
    "model.add(Dense(2))\n",
    "model.add(Activation('softmax'))"
   ]
  },
  {
   "cell_type": "code",
   "execution_count": 130,
   "metadata": {},
   "outputs": [
    {
     "name": "stdout",
     "output_type": "stream",
     "text": [
      "_________________________________________________________________\n",
      "Layer (type)                 Output Shape              Param #   \n",
      "=================================================================\n",
      "conv2d_40 (Conv2D)           (None, 64, 64, 32)        416       \n",
      "_________________________________________________________________\n",
      "max_pooling2d_40 (MaxPooling (None, 32, 32, 32)        0         \n",
      "_________________________________________________________________\n",
      "conv2d_41 (Conv2D)           (None, 32, 32, 32)        4128      \n",
      "_________________________________________________________________\n",
      "max_pooling2d_41 (MaxPooling (None, 16, 16, 32)        0         \n",
      "_________________________________________________________________\n",
      "conv2d_42 (Conv2D)           (None, 16, 16, 32)        4128      \n",
      "_________________________________________________________________\n",
      "max_pooling2d_42 (MaxPooling (None, 8, 8, 32)          0         \n",
      "_________________________________________________________________\n",
      "flatten_14 (Flatten)         (None, 2048)              0         \n",
      "_________________________________________________________________\n",
      "dense_40 (Dense)             (None, 256)               524544    \n",
      "_________________________________________________________________\n",
      "activation_42 (Activation)   (None, 256)               0         \n",
      "_________________________________________________________________\n",
      "dense_41 (Dense)             (None, 128)               32896     \n",
      "_________________________________________________________________\n",
      "activation_43 (Activation)   (None, 128)               0         \n",
      "_________________________________________________________________\n",
      "dense_42 (Dense)             (None, 2)                 258       \n",
      "_________________________________________________________________\n",
      "activation_44 (Activation)   (None, 2)                 0         \n",
      "=================================================================\n",
      "Total params: 566,370\n",
      "Trainable params: 566,370\n",
      "Non-trainable params: 0\n",
      "_________________________________________________________________\n"
     ]
    }
   ],
   "source": [
    "model.summary()"
   ]
  },
  {
   "cell_type": "code",
   "execution_count": 131,
   "metadata": {},
   "outputs": [
    {
     "ename": "ValueError",
     "evalue": "Error when checking target: expected activation_44 to have shape (2,) but got array with shape (1,)",
     "output_type": "error",
     "traceback": [
      "\u001b[0;31m---------------------------------------------------------------------------\u001b[0m",
      "\u001b[0;31mValueError\u001b[0m                                Traceback (most recent call last)",
      "\u001b[0;32m<ipython-input-131-a9e1afcdc31f>\u001b[0m in \u001b[0;36m<module>\u001b[0;34m()\u001b[0m\n\u001b[1;32m      3\u001b[0m \u001b[0;34m\u001b[0m\u001b[0m\n\u001b[1;32m      4\u001b[0m \u001b[0;31m# 学習\u001b[0m\u001b[0;34m\u001b[0m\u001b[0;34m\u001b[0m\u001b[0m\n\u001b[0;32m----> 5\u001b[0;31m \u001b[0mmodel\u001b[0m\u001b[0;34m.\u001b[0m\u001b[0mfit\u001b[0m\u001b[0;34m(\u001b[0m\u001b[0mX_train\u001b[0m\u001b[0;34m,\u001b[0m \u001b[0my_train\u001b[0m\u001b[0;34m,\u001b[0m \u001b[0mbatch_size\u001b[0m\u001b[0;34m=\u001b[0m\u001b[0;36m10\u001b[0m\u001b[0;34m,\u001b[0m \u001b[0mepochs\u001b[0m\u001b[0;34m=\u001b[0m\u001b[0;36m1\u001b[0m\u001b[0;34m)\u001b[0m\u001b[0;34m\u001b[0m\u001b[0m\n\u001b[0m\u001b[1;32m      6\u001b[0m \u001b[0;34m\u001b[0m\u001b[0m\n\u001b[1;32m      7\u001b[0m \u001b[0;31m#グラフ用\u001b[0m\u001b[0;34m\u001b[0m\u001b[0;34m\u001b[0m\u001b[0m\n",
      "\u001b[0;32m~/.local/share/virtualenvs/nogizaka-tVtNtEEG/lib/python3.6/site-packages/keras/engine/training.py\u001b[0m in \u001b[0;36mfit\u001b[0;34m(self, x, y, batch_size, epochs, verbose, callbacks, validation_split, validation_data, shuffle, class_weight, sample_weight, initial_epoch, steps_per_epoch, validation_steps, **kwargs)\u001b[0m\n\u001b[1;32m    948\u001b[0m             \u001b[0msample_weight\u001b[0m\u001b[0;34m=\u001b[0m\u001b[0msample_weight\u001b[0m\u001b[0;34m,\u001b[0m\u001b[0;34m\u001b[0m\u001b[0m\n\u001b[1;32m    949\u001b[0m             \u001b[0mclass_weight\u001b[0m\u001b[0;34m=\u001b[0m\u001b[0mclass_weight\u001b[0m\u001b[0;34m,\u001b[0m\u001b[0;34m\u001b[0m\u001b[0m\n\u001b[0;32m--> 950\u001b[0;31m             batch_size=batch_size)\n\u001b[0m\u001b[1;32m    951\u001b[0m         \u001b[0;31m# Prepare validation data.\u001b[0m\u001b[0;34m\u001b[0m\u001b[0;34m\u001b[0m\u001b[0m\n\u001b[1;32m    952\u001b[0m         \u001b[0mdo_validation\u001b[0m \u001b[0;34m=\u001b[0m \u001b[0;32mFalse\u001b[0m\u001b[0;34m\u001b[0m\u001b[0m\n",
      "\u001b[0;32m~/.local/share/virtualenvs/nogizaka-tVtNtEEG/lib/python3.6/site-packages/keras/engine/training.py\u001b[0m in \u001b[0;36m_standardize_user_data\u001b[0;34m(self, x, y, sample_weight, class_weight, check_array_lengths, batch_size)\u001b[0m\n\u001b[1;32m    785\u001b[0m                 \u001b[0mfeed_output_shapes\u001b[0m\u001b[0;34m,\u001b[0m\u001b[0;34m\u001b[0m\u001b[0m\n\u001b[1;32m    786\u001b[0m                 \u001b[0mcheck_batch_axis\u001b[0m\u001b[0;34m=\u001b[0m\u001b[0;32mFalse\u001b[0m\u001b[0;34m,\u001b[0m  \u001b[0;31m# Don't enforce the batch size.\u001b[0m\u001b[0;34m\u001b[0m\u001b[0m\n\u001b[0;32m--> 787\u001b[0;31m                 exception_prefix='target')\n\u001b[0m\u001b[1;32m    788\u001b[0m \u001b[0;34m\u001b[0m\u001b[0m\n\u001b[1;32m    789\u001b[0m             \u001b[0;31m# Generate sample-wise weight values given the `sample_weight` and\u001b[0m\u001b[0;34m\u001b[0m\u001b[0;34m\u001b[0m\u001b[0m\n",
      "\u001b[0;32m~/.local/share/virtualenvs/nogizaka-tVtNtEEG/lib/python3.6/site-packages/keras/engine/training_utils.py\u001b[0m in \u001b[0;36mstandardize_input_data\u001b[0;34m(data, names, shapes, check_batch_axis, exception_prefix)\u001b[0m\n\u001b[1;32m    135\u001b[0m                             \u001b[0;34m': expected '\u001b[0m \u001b[0;34m+\u001b[0m \u001b[0mnames\u001b[0m\u001b[0;34m[\u001b[0m\u001b[0mi\u001b[0m\u001b[0;34m]\u001b[0m \u001b[0;34m+\u001b[0m \u001b[0;34m' to have shape '\u001b[0m \u001b[0;34m+\u001b[0m\u001b[0;34m\u001b[0m\u001b[0m\n\u001b[1;32m    136\u001b[0m                             \u001b[0mstr\u001b[0m\u001b[0;34m(\u001b[0m\u001b[0mshape\u001b[0m\u001b[0;34m)\u001b[0m \u001b[0;34m+\u001b[0m \u001b[0;34m' but got array with shape '\u001b[0m \u001b[0;34m+\u001b[0m\u001b[0;34m\u001b[0m\u001b[0m\n\u001b[0;32m--> 137\u001b[0;31m                             str(data_shape))\n\u001b[0m\u001b[1;32m    138\u001b[0m     \u001b[0;32mreturn\u001b[0m \u001b[0mdata\u001b[0m\u001b[0;34m\u001b[0m\u001b[0m\n\u001b[1;32m    139\u001b[0m \u001b[0;34m\u001b[0m\u001b[0m\n",
      "\u001b[0;31mValueError\u001b[0m: Error when checking target: expected activation_44 to have shape (2,) but got array with shape (1,)"
     ]
    }
   ],
   "source": [
    "# コンパイル\n",
    "model.compile(optimizer='sgd', loss='categorical_crossentropy',metrics=['accuracy'])\n",
    "\n",
    "# 学習\n",
    "model.fit(X_train, y_train, batch_size=10, epochs=1)\n",
    "\n",
    "#グラフ用\n",
    "# history = model.fit(X_train, y_train, batch_size=1, epochs=1, verbose=1, validation_data=(X_test, y_test))\n",
    "\n",
    "# 汎化制度の評価・表示\n",
    "# score = model.evaluate(X_test, y_test, batch_size=32, verbose=0)\n",
    "# print('validation loss:{0[0]}\\nvalidation accuracy:{0[1]}'.format(score))\n",
    "\n",
    "# #acc, val_accのプロット\n",
    "# plt.plot(history.history[\"acc\"], label=\"acc\", ls=\"-\", marker=\"o\")\n",
    "# plt.plot(history.history[\"val_acc\"], label=\"val_acc\", ls=\"-\", marker=\"x\")\n",
    "# plt.ylabel(\"accuracy\")\n",
    "# plt.xlabel(\"epoch\")\n",
    "# plt.legend(loc=\"best\")\n",
    "# plt.show()\n",
    "\n",
    "# #モデルを保存\n",
    "# model.save(\"my_model.h5\")"
   ]
  },
  {
   "cell_type": "markdown",
   "metadata": {},
   "source": [
    "### テスト"
   ]
  },
  {
   "cell_type": "code",
   "execution_count": 132,
   "metadata": {},
   "outputs": [],
   "source": [
    "import numpy as np\n",
    "import matplotlib.pyplot as pl"
   ]
  },
  {
   "cell_type": "code",
   "execution_count": 134,
   "metadata": {},
   "outputs": [],
   "source": [
    "def detect_face(image):\n",
    "    #opencvを使って顔抽出\n",
    "    image_gs = cv2.cvtColor(image, cv2.COLOR_BGR2GRAY)\n",
    "    cascade = cv2.CascadeClassifier(\"/usr/local/opt/opencv/share/OpenCV/haarcascades/haarcascade_frontalface_alt.xml\")\n",
    "    \n",
    "    # 顔認識の実行\n",
    "    face_list = cascade.detectMultiScale(image_gs, scaleFactor=1.1, minNeighbors=2, minSize=(64, 64))\n",
    "    \n",
    "    #顔が１つ以上検出された時\n",
    "    if len(face_list) > 0:\n",
    "        for rect in face_list:\n",
    "            x,y,width,height=rect\n",
    "            cv2.rectangle(image, tuple(rect[0:2]), tuple(rect[0:2]+rect[2:4]), (255, 0, 0), thickness=3)\n",
    "            img = image[rect[1]:rect[1]+rect[3],rect[0]:rect[0]+rect[2]]\n",
    "            if image.shape[0]<64:\n",
    "                print(\"too small\")\n",
    "                continue\n",
    "            img = cv2.resize(image,(64,64))\n",
    "            img=np.expand_dims(img,axis=0)\n",
    "            name = detect_who(img)\n",
    "            cv2.putText(image,name,(x,y+height+20),cv2.FONT_HERSHEY_DUPLEX,1,(255,0,0),2)\n",
    "    #顔が検出されなかった時\n",
    "    else:\n",
    "        print(\"no face\")\n",
    "    return image"
   ]
  },
  {
   "cell_type": "code",
   "execution_count": 136,
   "metadata": {},
   "outputs": [
    {
     "name": "stdout",
     "output_type": "stream",
     "text": [
      "[[[[ 47  65  47]\n",
      "   [ 35  51  40]\n",
      "   [ 22  41  32]\n",
      "   ...\n",
      "   [108 112 113]\n",
      "   [104 108 109]\n",
      "   [106 110 111]]\n",
      "\n",
      "  [[ 61  79  67]\n",
      "   [ 40  56  45]\n",
      "   [ 34  56  44]\n",
      "   ...\n",
      "   [108 112 113]\n",
      "   [108 111 112]\n",
      "   [107 111 112]]\n",
      "\n",
      "  [[ 52  62  55]\n",
      "   [ 43  53  44]\n",
      "   [ 69  84  78]\n",
      "   ...\n",
      "   [111 115 116]\n",
      "   [109 113 114]\n",
      "   [110 114 115]]\n",
      "\n",
      "  ...\n",
      "\n",
      "  [[ 80  82  77]\n",
      "   [ 74  74  74]\n",
      "   [ 79  79  78]\n",
      "   ...\n",
      "   [112  88  76]\n",
      "   [111  92  92]\n",
      "   [165 145 151]]\n",
      "\n",
      "  [[ 78  82  77]\n",
      "   [ 81  79  79]\n",
      "   [ 82  83  85]\n",
      "   ...\n",
      "   [113  99 100]\n",
      "   [183 180 194]\n",
      "   [183 181 195]]\n",
      "\n",
      "  [[ 77  79  78]\n",
      "   [ 79  75  72]\n",
      "   [ 76  74  78]\n",
      "   ...\n",
      "   [183 183 194]\n",
      "   [174 180 196]\n",
      "   [177 180 195]]]]\n",
      "[[1.000000e+00 2.674197e-32]]\n"
     ]
    },
    {
     "data": {
      "image/png": "[encoded data removed]",
      "text/plain": [
       "<Figure size 432x288 with 1 Axes>"
      ]
     },
     "metadata": {},
     "output_type": "display_data"
    }
   ],
   "source": [
    "def detect_who(img):\n",
    "    #予測\n",
    "    name=\"\"\n",
    "    print(img)\n",
    "    print(model.predict(img))\n",
    "    nameNumLabel = np.argmax(model.predict(img))\n",
    "    if nameNumLabel == 9: \n",
    "        name=\"Nagasawa Masami\"\n",
    "    return name\n",
    "\n",
    "# model = load_model('./my_model.h5')\n",
    "\n",
    "image = cv2.imread(\"masami_original/masami0.jpg\")\n",
    "\n",
    "if image is None:\n",
    "    print(\"Not open:\")\n",
    "b,g,r = cv2.split(image)\n",
    "image = cv2.merge([r,g,b])\n",
    "whoImage = detect_face(image)\n",
    "\n",
    "plt.imshow(whoImage)\n",
    "plt.show()"
   ]
  },
  {
   "cell_type": "code",
   "execution_count": null,
   "metadata": {},
   "outputs": [],
   "source": []
  },
  {
   "cell_type": "code",
   "execution_count": null,
   "metadata": {},
   "outputs": [],
   "source": []
  }
 ],
 "metadata": {
  "kernelspec": {
   "display_name": "Python 3",
   "language": "python",
   "name": "python3"
  },
  "language_info": {
   "codemirror_mode": {
    "name": "ipython",
    "version": 3
   },
   "file_extension": ".py",
   "mimetype": "text/x-python",
   "name": "python",
   "nbconvert_exporter": "python",
   "pygments_lexer": "ipython3",
   "version": "3.6.6"
  }
 },
 "nbformat": 4,
 "nbformat_minor": 2
}

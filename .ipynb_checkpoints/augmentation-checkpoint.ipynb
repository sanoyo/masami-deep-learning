{
 "cells": [
  {
   "cell_type": "markdown",
   "metadata": {},
   "source": [
    "### 左右反転、閾値処理、ぼかしで８倍の水増し"
   ]
  },
  {
   "cell_type": "code",
   "execution_count": 1,
   "metadata": {},
   "outputs": [],
   "source": [
    "import os\n",
    "import numpy as np\n",
    "import cv2\n",
    "import matplotlib.pyplot as plt"
   ]
  },
  {
   "cell_type": "code",
   "execution_count": 2,
   "metadata": {},
   "outputs": [],
   "source": [
    "def scratch_image(img, flip=True, thr=True, fit=True):\n",
    "    ## 水増しの手法を配列にする\n",
    "    methods = [flip, thr, fit]\n",
    "    \n",
    "    ## ぼかしのフィルター作成\n",
    "    filter1 = np.ones((3,3))\n",
    "    images = [img]\n",
    "    \n",
    "    ## 水増しの手法\n",
    "    scratch = np.array([\n",
    "        lambda x: cv2.flip(x, 1),\n",
    "        lambda x: cv2.threshold(x, 100, 255, cv2.THRESH_TOZERO)[1],\n",
    "        lambda x: cv2.GaussianBlur(x, (5, 5), 0)\n",
    "    ])\n",
    "    \n",
    "    doubling_images = lambda f, imag: np.r_[imag, [f(i) for i in imag]] \n",
    "    \n",
    "    for func in scratch[methods]:\n",
    "        images = doubling_images(func, images)\n",
    "    return images"
   ]
  },
  {
   "cell_type": "code",
   "execution_count": 3,
   "metadata": {},
   "outputs": [],
   "source": [
    "import glob\n",
    "\n",
    "in_dir = \"face_image/*\"\n",
    "## in_dirからのファイル名取得(ディレクトリ名含む)\n",
    "in_jpg = glob.glob(in_dir)\n",
    "## 画像ファイル名のみ\n",
    "img_file_name_list = os.listdir(\"face_image/\")\n",
    "\n",
    "for i in range(len(in_jpg)):\n",
    "    img = cv2.imread(str(in_jpg[i]))\n",
    "    scratch_face_images = scratch_image(img)\n",
    "\n",
    "    for num, im in enumerate(scratch_face_images):\n",
    "            fn, ext = os.path.splitext(img_file_name_list[i])\n",
    "            file_name=os.path.join(\"./face_scratch_image\",str(fn+\".\"+str(num)+\".jpg\"))\n",
    "            cv2.imwrite(str(file_name) ,im)"
   ]
  },
  {
   "cell_type": "markdown",
   "metadata": {},
   "source": [
    "### 画像と正解ラベルをリストにする"
   ]
  },
  {
   "cell_type": "code",
   "execution_count": 28,
   "metadata": {},
   "outputs": [],
   "source": [
    "import random\n",
    "from keras.utils.np_utils import to_categorical\n",
    "import os\n",
    "import cv2\n",
    "import numpy as np\n",
    "import matplotlib.pyplot as plt"
   ]
  },
  {
   "cell_type": "code",
   "execution_count": 65,
   "metadata": {},
   "outputs": [],
   "source": [
    "img_file_name_list = os.listdir(\"masami_train/\")\n",
    "# print(len(img_file_name_list))\n",
    "\n",
    "for i in range(len(img_file_name_list)):\n",
    "    n = os.path.join(\"masami_train\", img_file_name_list[i-1])\n",
    "    img = cv2.imread(n)\n",
    "    \n",
    "    if isinstance(img, type(None)) == True:\n",
    "        img_file_name_list.pop(i)\n",
    "        continue"
   ]
  },
  {
   "cell_type": "code",
   "execution_count": 66,
   "metadata": {},
   "outputs": [],
   "source": [
    "X_train=[]\n",
    "y_train=[]\n",
    "\n",
    "for j in range(0, len(img_file_name_list)-1):\n",
    "    n = os.path.join(\"masami_train/\",img_file_name_list[j])\n",
    "    img = cv2.imread(n)\n",
    "    b,g,r = cv2.split(img)\n",
    "    img = cv2.merge([r,g,b])\n",
    "    X_train.append(img)\n",
    "    n = img_file_name_list[j]\n",
    "    y_train = np.append(y_train, n[0:2]).reshape(j+1,1)    \n",
    "X_train = np.array(X_train)\n",
    "\n",
    "img_file_name_list=os.listdir(\"test_image/\")\n",
    "# print(len(img_file_name_list))"
   ]
  },
  {
   "cell_type": "code",
   "execution_count": 67,
   "metadata": {},
   "outputs": [
    {
     "name": "stdout",
     "output_type": "stream",
     "text": [
      "12\n"
     ]
    }
   ],
   "source": [
    "for i in range(len(img_file_name_list)-1):\n",
    "    n=os.path.join(\"test_image/\",img_file_name_list[i-1])\n",
    "    img = cv2.imread(n)\n",
    "    if isinstance(img,type(None)) == True:\n",
    "        img_file_name_list.pop(i)\n",
    "        continue"
   ]
  },
  {
   "cell_type": "code",
   "execution_count": 72,
   "metadata": {},
   "outputs": [],
   "source": [
    "X_test=[]\n",
    "y_test=[]\n",
    "\n",
    "for j in range(0, len(img_file_name_list)):\n",
    "    n=os.path.join(\"test_image/\", img_file_name_list[j])\n",
    "    img = cv2.imread(n)\n",
    "    b,g,r = cv2.split(img)\n",
    "    img = cv2.merge([r,g,b])\n",
    "    X_test.append(img)\n",
    "    n=img_file_name_list[j]\n",
    "    y_test=np.append(y_test, n[0:2]).reshape(j+1,1)\n",
    "X_test=np.array(X_test)"
   ]
  },
  {
   "cell_type": "code",
   "execution_count": null,
   "metadata": {},
   "outputs": [],
   "source": []
  }
 ],
 "metadata": {
  "kernelspec": {
   "display_name": "Python 3",
   "language": "python",
   "name": "python3"
  },
  "language_info": {
   "codemirror_mode": {
    "name": "ipython",
    "version": 3
   },
   "file_extension": ".py",
   "mimetype": "text/x-python",
   "name": "python",
   "nbconvert_exporter": "python",
   "pygments_lexer": "ipython3",
   "version": "3.7.0"
  }
 },
 "nbformat": 4,
 "nbformat_minor": 2
}

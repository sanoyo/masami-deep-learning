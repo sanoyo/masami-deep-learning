{
 "cells": [
  {
   "cell_type": "code",
   "execution_count": 36,
   "metadata": {},
   "outputs": [],
   "source": [
    "import numpy as np\n",
    "import cv2\n",
    "import matplotlib.pyplot as plt\n",
    "import numpy as np\n",
    "from PIL import Image\n",
    "import glob\n",
    "import os"
   ]
  },
  {
   "cell_type": "code",
   "execution_count": 40,
   "metadata": {},
   "outputs": [],
   "source": [
    "in_dir = \"masami/*\"\n",
    "out_dir = \"face_image\"\n",
    "\n",
    "in_jpg = glob.glob(in_dir)\n",
    "in_fileName=os.listdir(\"masami/\")\n",
    "# print(in_jpg)\n",
    "# print(in_fileName)\n",
    "# print(len(in_jpg))"
   ]
  },
  {
   "cell_type": "code",
   "execution_count": 41,
   "metadata": {},
   "outputs": [],
   "source": [
    "for num in range(len(in_jpg)):\n",
    "    image = cv2.imread(str(in_jpg[num]))\n",
    "    if image is None:\n",
    "        continue\n",
    "    \n",
    "    # 白黒画像に変換\n",
    "    image_gs = cv2.cvtColor(image, cv2.COLOR_BGR2GRAY)\n",
    "    \n",
    "    # CascadeClassifierのオブジェクト作成\n",
    "    cascade = cv2.CascadeClassifier(\"/usr/local/opt/opencv/share/OpenCV/haarcascades/haarcascade_frontalface_alt.xml\")\n",
    "\n",
    "    # 顔認識の実行ｓ\n",
    "    face_list=cascade.detectMultiScale(image_gs, scaleFactor=1.1, minNeighbors=2,minSize=(64,64))\n",
    "    \n",
    "    # 顔が１つ以上検出された時\n",
    "    if len(face_list) > 0:\n",
    "        for rect in face_list:\n",
    "            x,y,width,height=rect\n",
    "            image = image[rect[1]:rect[1]+rect[3],rect[0]:rect[0]+rect[2]]\n",
    "            if image.shape[0]<64:\n",
    "                continue\n",
    "            image = cv2.resize(image,(64,64))\n",
    "    #顔が検出されなかった時\n",
    "    else:\n",
    "        print(\"no face\")\n",
    "        continue\n",
    "\n",
    "    #保存\n",
    "    fileName=os.path.join(out_dir, str(in_fileName[num]) + \".jpg\")\n",
    "    cv2.imwrite(str(fileName),image)"
   ]
  },
  {
   "cell_type": "code",
   "execution_count": 49,
   "metadata": {},
   "outputs": [],
   "source": [
    "import random\n",
    "import shutil\n",
    "\n",
    "in_dir = \"face_image/*\"\n",
    "in_jpg = glob.glob(in_dir)\n",
    "img_file_name_list = os.listdir(\"face_image/\")\n",
    "\n",
    "#img_file_name_listをシャッフル、そのうち2割をtest_imageディテクトリに入れる\n",
    "random.shuffle(in_jpg)\n",
    "\n",
    "for i in range(len(in_jpg)//5):\n",
    "    shutil.move(str(in_jpg[i]), \"test_image\")"
   ]
  },
  {
   "cell_type": "code",
   "execution_count": null,
   "metadata": {},
   "outputs": [],
   "source": []
  }
 ],
 "metadata": {
  "kernelspec": {
   "display_name": "Python 3",
   "language": "python",
   "name": "python3"
  },
  "language_info": {
   "codemirror_mode": {
    "name": "ipython",
    "version": 3
   },
   "file_extension": ".py",
   "mimetype": "text/x-python",
   "name": "python",
   "nbconvert_exporter": "python",
   "pygments_lexer": "ipython3",
   "version": "3.6.2"
  }
 },
 "nbformat": 4,
 "nbformat_minor": 2
}
